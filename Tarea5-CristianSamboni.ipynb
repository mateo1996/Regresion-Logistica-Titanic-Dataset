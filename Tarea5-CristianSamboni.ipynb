{
 "cells": [
  {
   "cell_type": "markdown",
   "id": "d52b5703-23b5-4215-9b76-66eb6b7dd7c5",
   "metadata": {},
   "source": [
    "<h1>Modelo de Regresion Logistica: Titanic Dataset</h1>\n",
    "\n",
    "<h3>Presentado por: Cristian Mateo Samboni Muñoz</h3>"
   ]
  },
  {
   "cell_type": "code",
   "execution_count": 132,
   "id": "51d7a30b-e00b-4954-991c-0a1c8af52383",
   "metadata": {},
   "outputs": [],
   "source": [
    "import pandas as pd \n",
    "import numpy as np\n",
    "import seaborn as sns \n",
    "import matplotlib.pyplot as plt \n",
    "\n",
    "from sklearn import metrics \n",
    "from sklearn.model_selection import train_test_split \n",
    "from sklearn.linear_model import LogisticRegression\n",
    "from sklearn.metrics import classification_report, confusion_matrix, RocCurveDisplay\n",
    "from sklearn.preprocessing import LabelEncoder\n",
    "from imblearn.over_sampling import SMOTE"
   ]
  },
  {
   "cell_type": "code",
   "execution_count": 134,
   "id": "09aa1002-cd2b-4502-8ced-bd3ed3a39d61",
   "metadata": {},
   "outputs": [],
   "source": [
    "Datos = pd.read_csv('D:/Titanic-Dataset.csv')"
   ]
  },
  {
   "cell_type": "code",
   "execution_count": 136,
   "id": "80861aa0-e131-47a9-966e-1df54753d0aa",
   "metadata": {},
   "outputs": [
    {
     "data": {
      "text/html": [
       "<div>\n",
       "<style scoped>\n",
       "    .dataframe tbody tr th:only-of-type {\n",
       "        vertical-align: middle;\n",
       "    }\n",
       "\n",
       "    .dataframe tbody tr th {\n",
       "        vertical-align: top;\n",
       "    }\n",
       "\n",
       "    .dataframe thead th {\n",
       "        text-align: right;\n",
       "    }\n",
       "</style>\n",
       "<table border=\"1\" class=\"dataframe\">\n",
       "  <thead>\n",
       "    <tr style=\"text-align: right;\">\n",
       "      <th></th>\n",
       "      <th>PassengerId</th>\n",
       "      <th>Survived</th>\n",
       "      <th>Pclass</th>\n",
       "      <th>Name</th>\n",
       "      <th>Sex</th>\n",
       "      <th>Age</th>\n",
       "      <th>SibSp</th>\n",
       "      <th>Parch</th>\n",
       "      <th>Ticket</th>\n",
       "      <th>Fare</th>\n",
       "      <th>Cabin</th>\n",
       "      <th>Embarked</th>\n",
       "    </tr>\n",
       "  </thead>\n",
       "  <tbody>\n",
       "    <tr>\n",
       "      <th>0</th>\n",
       "      <td>1</td>\n",
       "      <td>0</td>\n",
       "      <td>3</td>\n",
       "      <td>Braund, Mr. Owen Harris</td>\n",
       "      <td>male</td>\n",
       "      <td>22.0</td>\n",
       "      <td>1</td>\n",
       "      <td>0</td>\n",
       "      <td>A/5 21171</td>\n",
       "      <td>7.2500</td>\n",
       "      <td>NaN</td>\n",
       "      <td>S</td>\n",
       "    </tr>\n",
       "    <tr>\n",
       "      <th>1</th>\n",
       "      <td>2</td>\n",
       "      <td>1</td>\n",
       "      <td>1</td>\n",
       "      <td>Cumings, Mrs. John Bradley (Florence Briggs Th...</td>\n",
       "      <td>female</td>\n",
       "      <td>38.0</td>\n",
       "      <td>1</td>\n",
       "      <td>0</td>\n",
       "      <td>PC 17599</td>\n",
       "      <td>71.2833</td>\n",
       "      <td>C85</td>\n",
       "      <td>C</td>\n",
       "    </tr>\n",
       "    <tr>\n",
       "      <th>2</th>\n",
       "      <td>3</td>\n",
       "      <td>1</td>\n",
       "      <td>3</td>\n",
       "      <td>Heikkinen, Miss. Laina</td>\n",
       "      <td>female</td>\n",
       "      <td>26.0</td>\n",
       "      <td>0</td>\n",
       "      <td>0</td>\n",
       "      <td>STON/O2. 3101282</td>\n",
       "      <td>7.9250</td>\n",
       "      <td>NaN</td>\n",
       "      <td>S</td>\n",
       "    </tr>\n",
       "    <tr>\n",
       "      <th>3</th>\n",
       "      <td>4</td>\n",
       "      <td>1</td>\n",
       "      <td>1</td>\n",
       "      <td>Futrelle, Mrs. Jacques Heath (Lily May Peel)</td>\n",
       "      <td>female</td>\n",
       "      <td>35.0</td>\n",
       "      <td>1</td>\n",
       "      <td>0</td>\n",
       "      <td>113803</td>\n",
       "      <td>53.1000</td>\n",
       "      <td>C123</td>\n",
       "      <td>S</td>\n",
       "    </tr>\n",
       "    <tr>\n",
       "      <th>4</th>\n",
       "      <td>5</td>\n",
       "      <td>0</td>\n",
       "      <td>3</td>\n",
       "      <td>Allen, Mr. William Henry</td>\n",
       "      <td>male</td>\n",
       "      <td>35.0</td>\n",
       "      <td>0</td>\n",
       "      <td>0</td>\n",
       "      <td>373450</td>\n",
       "      <td>8.0500</td>\n",
       "      <td>NaN</td>\n",
       "      <td>S</td>\n",
       "    </tr>\n",
       "    <tr>\n",
       "      <th>...</th>\n",
       "      <td>...</td>\n",
       "      <td>...</td>\n",
       "      <td>...</td>\n",
       "      <td>...</td>\n",
       "      <td>...</td>\n",
       "      <td>...</td>\n",
       "      <td>...</td>\n",
       "      <td>...</td>\n",
       "      <td>...</td>\n",
       "      <td>...</td>\n",
       "      <td>...</td>\n",
       "      <td>...</td>\n",
       "    </tr>\n",
       "    <tr>\n",
       "      <th>95</th>\n",
       "      <td>96</td>\n",
       "      <td>0</td>\n",
       "      <td>3</td>\n",
       "      <td>Shorney, Mr. Charles Joseph</td>\n",
       "      <td>male</td>\n",
       "      <td>NaN</td>\n",
       "      <td>0</td>\n",
       "      <td>0</td>\n",
       "      <td>374910</td>\n",
       "      <td>8.0500</td>\n",
       "      <td>NaN</td>\n",
       "      <td>S</td>\n",
       "    </tr>\n",
       "    <tr>\n",
       "      <th>96</th>\n",
       "      <td>97</td>\n",
       "      <td>0</td>\n",
       "      <td>1</td>\n",
       "      <td>Goldschmidt, Mr. George B</td>\n",
       "      <td>male</td>\n",
       "      <td>71.0</td>\n",
       "      <td>0</td>\n",
       "      <td>0</td>\n",
       "      <td>PC 17754</td>\n",
       "      <td>34.6542</td>\n",
       "      <td>A5</td>\n",
       "      <td>C</td>\n",
       "    </tr>\n",
       "    <tr>\n",
       "      <th>97</th>\n",
       "      <td>98</td>\n",
       "      <td>1</td>\n",
       "      <td>1</td>\n",
       "      <td>Greenfield, Mr. William Bertram</td>\n",
       "      <td>male</td>\n",
       "      <td>23.0</td>\n",
       "      <td>0</td>\n",
       "      <td>1</td>\n",
       "      <td>PC 17759</td>\n",
       "      <td>63.3583</td>\n",
       "      <td>D10 D12</td>\n",
       "      <td>C</td>\n",
       "    </tr>\n",
       "    <tr>\n",
       "      <th>98</th>\n",
       "      <td>99</td>\n",
       "      <td>1</td>\n",
       "      <td>2</td>\n",
       "      <td>Doling, Mrs. John T (Ada Julia Bone)</td>\n",
       "      <td>female</td>\n",
       "      <td>34.0</td>\n",
       "      <td>0</td>\n",
       "      <td>1</td>\n",
       "      <td>231919</td>\n",
       "      <td>23.0000</td>\n",
       "      <td>NaN</td>\n",
       "      <td>S</td>\n",
       "    </tr>\n",
       "    <tr>\n",
       "      <th>99</th>\n",
       "      <td>100</td>\n",
       "      <td>0</td>\n",
       "      <td>2</td>\n",
       "      <td>Kantor, Mr. Sinai</td>\n",
       "      <td>male</td>\n",
       "      <td>34.0</td>\n",
       "      <td>1</td>\n",
       "      <td>0</td>\n",
       "      <td>244367</td>\n",
       "      <td>26.0000</td>\n",
       "      <td>NaN</td>\n",
       "      <td>S</td>\n",
       "    </tr>\n",
       "  </tbody>\n",
       "</table>\n",
       "<p>100 rows × 12 columns</p>\n",
       "</div>"
      ],
      "text/plain": [
       "    PassengerId  Survived  Pclass  \\\n",
       "0             1         0       3   \n",
       "1             2         1       1   \n",
       "2             3         1       3   \n",
       "3             4         1       1   \n",
       "4             5         0       3   \n",
       "..          ...       ...     ...   \n",
       "95           96         0       3   \n",
       "96           97         0       1   \n",
       "97           98         1       1   \n",
       "98           99         1       2   \n",
       "99          100         0       2   \n",
       "\n",
       "                                                 Name     Sex   Age  SibSp  \\\n",
       "0                             Braund, Mr. Owen Harris    male  22.0      1   \n",
       "1   Cumings, Mrs. John Bradley (Florence Briggs Th...  female  38.0      1   \n",
       "2                              Heikkinen, Miss. Laina  female  26.0      0   \n",
       "3        Futrelle, Mrs. Jacques Heath (Lily May Peel)  female  35.0      1   \n",
       "4                            Allen, Mr. William Henry    male  35.0      0   \n",
       "..                                                ...     ...   ...    ...   \n",
       "95                        Shorney, Mr. Charles Joseph    male   NaN      0   \n",
       "96                          Goldschmidt, Mr. George B    male  71.0      0   \n",
       "97                    Greenfield, Mr. William Bertram    male  23.0      0   \n",
       "98               Doling, Mrs. John T (Ada Julia Bone)  female  34.0      0   \n",
       "99                                  Kantor, Mr. Sinai    male  34.0      1   \n",
       "\n",
       "    Parch            Ticket     Fare    Cabin Embarked  \n",
       "0       0         A/5 21171   7.2500      NaN        S  \n",
       "1       0          PC 17599  71.2833      C85        C  \n",
       "2       0  STON/O2. 3101282   7.9250      NaN        S  \n",
       "3       0            113803  53.1000     C123        S  \n",
       "4       0            373450   8.0500      NaN        S  \n",
       "..    ...               ...      ...      ...      ...  \n",
       "95      0            374910   8.0500      NaN        S  \n",
       "96      0          PC 17754  34.6542       A5        C  \n",
       "97      1          PC 17759  63.3583  D10 D12        C  \n",
       "98      1            231919  23.0000      NaN        S  \n",
       "99      0            244367  26.0000      NaN        S  \n",
       "\n",
       "[100 rows x 12 columns]"
      ]
     },
     "execution_count": 136,
     "metadata": {},
     "output_type": "execute_result"
    }
   ],
   "source": [
    "Datos.head(100)"
   ]
  },
  {
   "cell_type": "code",
   "execution_count": 138,
   "id": "8d13f2c8-659f-4754-8143-3bc31ebac2f9",
   "metadata": {},
   "outputs": [
    {
     "data": {
      "text/html": [
       "<div>\n",
       "<style scoped>\n",
       "    .dataframe tbody tr th:only-of-type {\n",
       "        vertical-align: middle;\n",
       "    }\n",
       "\n",
       "    .dataframe tbody tr th {\n",
       "        vertical-align: top;\n",
       "    }\n",
       "\n",
       "    .dataframe thead th {\n",
       "        text-align: right;\n",
       "    }\n",
       "</style>\n",
       "<table border=\"1\" class=\"dataframe\">\n",
       "  <thead>\n",
       "    <tr style=\"text-align: right;\">\n",
       "      <th></th>\n",
       "      <th>PassengerId</th>\n",
       "      <th>Survived</th>\n",
       "      <th>Pclass</th>\n",
       "      <th>Age</th>\n",
       "      <th>SibSp</th>\n",
       "      <th>Parch</th>\n",
       "      <th>Fare</th>\n",
       "    </tr>\n",
       "  </thead>\n",
       "  <tbody>\n",
       "    <tr>\n",
       "      <th>count</th>\n",
       "      <td>891.000000</td>\n",
       "      <td>891.000000</td>\n",
       "      <td>891.000000</td>\n",
       "      <td>714.000000</td>\n",
       "      <td>891.000000</td>\n",
       "      <td>891.000000</td>\n",
       "      <td>891.000000</td>\n",
       "    </tr>\n",
       "    <tr>\n",
       "      <th>mean</th>\n",
       "      <td>446.000000</td>\n",
       "      <td>0.383838</td>\n",
       "      <td>2.308642</td>\n",
       "      <td>29.699118</td>\n",
       "      <td>0.523008</td>\n",
       "      <td>0.381594</td>\n",
       "      <td>32.204208</td>\n",
       "    </tr>\n",
       "    <tr>\n",
       "      <th>std</th>\n",
       "      <td>257.353842</td>\n",
       "      <td>0.486592</td>\n",
       "      <td>0.836071</td>\n",
       "      <td>14.526497</td>\n",
       "      <td>1.102743</td>\n",
       "      <td>0.806057</td>\n",
       "      <td>49.693429</td>\n",
       "    </tr>\n",
       "    <tr>\n",
       "      <th>min</th>\n",
       "      <td>1.000000</td>\n",
       "      <td>0.000000</td>\n",
       "      <td>1.000000</td>\n",
       "      <td>0.420000</td>\n",
       "      <td>0.000000</td>\n",
       "      <td>0.000000</td>\n",
       "      <td>0.000000</td>\n",
       "    </tr>\n",
       "    <tr>\n",
       "      <th>25%</th>\n",
       "      <td>223.500000</td>\n",
       "      <td>0.000000</td>\n",
       "      <td>2.000000</td>\n",
       "      <td>20.125000</td>\n",
       "      <td>0.000000</td>\n",
       "      <td>0.000000</td>\n",
       "      <td>7.910400</td>\n",
       "    </tr>\n",
       "    <tr>\n",
       "      <th>50%</th>\n",
       "      <td>446.000000</td>\n",
       "      <td>0.000000</td>\n",
       "      <td>3.000000</td>\n",
       "      <td>28.000000</td>\n",
       "      <td>0.000000</td>\n",
       "      <td>0.000000</td>\n",
       "      <td>14.454200</td>\n",
       "    </tr>\n",
       "    <tr>\n",
       "      <th>75%</th>\n",
       "      <td>668.500000</td>\n",
       "      <td>1.000000</td>\n",
       "      <td>3.000000</td>\n",
       "      <td>38.000000</td>\n",
       "      <td>1.000000</td>\n",
       "      <td>0.000000</td>\n",
       "      <td>31.000000</td>\n",
       "    </tr>\n",
       "    <tr>\n",
       "      <th>max</th>\n",
       "      <td>891.000000</td>\n",
       "      <td>1.000000</td>\n",
       "      <td>3.000000</td>\n",
       "      <td>80.000000</td>\n",
       "      <td>8.000000</td>\n",
       "      <td>6.000000</td>\n",
       "      <td>512.329200</td>\n",
       "    </tr>\n",
       "  </tbody>\n",
       "</table>\n",
       "</div>"
      ],
      "text/plain": [
       "       PassengerId    Survived      Pclass         Age       SibSp  \\\n",
       "count   891.000000  891.000000  891.000000  714.000000  891.000000   \n",
       "mean    446.000000    0.383838    2.308642   29.699118    0.523008   \n",
       "std     257.353842    0.486592    0.836071   14.526497    1.102743   \n",
       "min       1.000000    0.000000    1.000000    0.420000    0.000000   \n",
       "25%     223.500000    0.000000    2.000000   20.125000    0.000000   \n",
       "50%     446.000000    0.000000    3.000000   28.000000    0.000000   \n",
       "75%     668.500000    1.000000    3.000000   38.000000    1.000000   \n",
       "max     891.000000    1.000000    3.000000   80.000000    8.000000   \n",
       "\n",
       "            Parch        Fare  \n",
       "count  891.000000  891.000000  \n",
       "mean     0.381594   32.204208  \n",
       "std      0.806057   49.693429  \n",
       "min      0.000000    0.000000  \n",
       "25%      0.000000    7.910400  \n",
       "50%      0.000000   14.454200  \n",
       "75%      0.000000   31.000000  \n",
       "max      6.000000  512.329200  "
      ]
     },
     "execution_count": 138,
     "metadata": {},
     "output_type": "execute_result"
    }
   ],
   "source": [
    "Datos.describe()"
   ]
  },
  {
   "cell_type": "code",
   "execution_count": 140,
   "id": "00a20011-8328-4fec-9162-055b55859163",
   "metadata": {},
   "outputs": [
    {
     "name": "stdout",
     "output_type": "stream",
     "text": [
      "Cantidad de registros sin numero de identificación: 0\n",
      "Cantidad de registros con numeros mayores a 1 (por que 0 es muerto y 1 vivo): 0\n",
      "Cantidad de registros con numeros mayores a 3 (por que van de primera a tercera clase): 0\n",
      "Cantidad de registros con edades mayores a 150: 0\n",
      "Cantidad de registros nulos en la edad:  177\n",
      "Cantidad de registro nulos en embarque:  2\n"
     ]
    }
   ],
   "source": [
    "print(\"Cantidad de registros sin numero de identificación:\", Datos['PassengerId'].isin([\" \"]).sum())\n",
    "\n",
    "survived_mayor_1 = (Datos['Survived'] > 1).sum()\n",
    "print(\"Cantidad de registros con numeros mayores a 1 (por que 0 es muerto y 1 vivo):\", survived_mayor_1)\n",
    "\n",
    "pclass_mayor_3 = (Datos['Pclass'] > 3).sum()\n",
    "print(\"Cantidad de registros con numeros mayores a 3 (por que van de primera a tercera clase):\", pclass_mayor_3)\n",
    "\n",
    "age_mayor_150 = (Datos['Age'] > 150).sum()\n",
    "print(\"Cantidad de registros con edades mayores a 150:\", age_mayor_150)\n",
    "\n",
    "age_null = (Datos['Age'].isnull()).sum()\n",
    "print(\"Cantidad de registros nulos en la edad: \", age_null)\n",
    "\n",
    "embarked_null = (Datos['Embarked'].isnull().sum())\n",
    "print(\"Cantidad de registro nulos en embarque: \", embarked_null)"
   ]
  },
  {
   "cell_type": "code",
   "execution_count": 142,
   "id": "0ced29e7-6bd7-4b7c-960e-de3540fef92c",
   "metadata": {},
   "outputs": [
    {
     "name": "stdout",
     "output_type": "stream",
     "text": [
      "Cantidad de registros nulos en la edad:  0\n",
      "Cantidad de registros nulos en embarque:  0\n"
     ]
    }
   ],
   "source": [
    "Datos['Age'] = Datos['Age'].mask(Datos['Age'].isnull(), Datos['Age'].mean())\n",
    "age_null = (Datos['Age'].isnull()).sum()\n",
    "print(\"Cantidad de registros nulos en la edad: \", age_null)\n",
    "\n",
    "Datos['Embarked'] = Datos['Embarked'].mask(Datos['Embarked'].isnull(), Datos['Embarked'].mode()[0])\n",
    "embarked_null = (Datos['Embarked'].isnull().sum())\n",
    "print(\"Cantidad de registros nulos en embarque: \", embarked_null)"
   ]
  },
  {
   "cell_type": "code",
   "execution_count": 144,
   "id": "975cab1a-9780-4e2e-81f3-f592824a7e95",
   "metadata": {},
   "outputs": [
    {
     "data": {
      "image/png": "[encoded data removed]",
      "text/plain": [
       "<Figure size 1000x1000 with 7 Axes>"
      ]
     },
     "metadata": {},
     "output_type": "display_data"
    }
   ],
   "source": [
    "def grafica_atipicos(dato, columna, ax):\n",
    "    sns.boxplot(x = Datos[columna], ax = ax)\n",
    "    ax.set_title(\"Datos atipicos de \" + columna)\n",
    "fig, axs = plt.subplots(7, 1, figsize = (10, 10))\n",
    "\n",
    "grafica_atipicos(Datos, 'Survived', axs[0])\n",
    "grafica_atipicos(Datos, 'Pclass', axs[1])\n",
    "grafica_atipicos(Datos, 'Age', axs[2])\n",
    "grafica_atipicos(Datos, 'SibSp', axs[3])\n",
    "grafica_atipicos(Datos, 'Parch', axs[4])\n",
    "grafica_atipicos(Datos, 'Fare', axs[5])\n",
    "grafica_atipicos(Datos, 'Embarked', axs[6])\n",
    "\n",
    "plt.tight_layout()\n",
    "plt.show()"
   ]
  },
  {
   "cell_type": "code",
   "execution_count": 145,
   "id": "19f55483-ffac-49ae-bc8b-59ee5066d34d",
   "metadata": {},
   "outputs": [
    {
     "name": "stdout",
     "output_type": "stream",
     "text": [
      "<class 'pandas.core.frame.DataFrame'>\n",
      "RangeIndex: 891 entries, 0 to 890\n",
      "Data columns (total 12 columns):\n",
      " #   Column       Non-Null Count  Dtype  \n",
      "---  ------       --------------  -----  \n",
      " 0   PassengerId  891 non-null    int64  \n",
      " 1   Survived     891 non-null    int64  \n",
      " 2   Pclass       891 non-null    int64  \n",
      " 3   Name         891 non-null    object \n",
      " 4   Sex          891 non-null    object \n",
      " 5   Age          891 non-null    float64\n",
      " 6   SibSp        891 non-null    int64  \n",
      " 7   Parch        891 non-null    int64  \n",
      " 8   Ticket       891 non-null    object \n",
      " 9   Fare         891 non-null    float64\n",
      " 10  Cabin        204 non-null    object \n",
      " 11  Embarked     891 non-null    object \n",
      "dtypes: float64(2), int64(5), object(5)\n",
      "memory usage: 83.7+ KB\n"
     ]
    }
   ],
   "source": [
    "Datos.info()"
   ]
  },
  {
   "cell_type": "code",
   "execution_count": 146,
   "id": "98fb260b-8985-4cad-aca9-113dfd8b2850",
   "metadata": {},
   "outputs": [
    {
     "data": {
      "text/plain": [
       "PassengerId\n",
       "1      1\n",
       "599    1\n",
       "588    1\n",
       "589    1\n",
       "590    1\n",
       "      ..\n",
       "301    1\n",
       "302    1\n",
       "303    1\n",
       "304    1\n",
       "891    1\n",
       "Name: count, Length: 891, dtype: int64"
      ]
     },
     "execution_count": 146,
     "metadata": {},
     "output_type": "execute_result"
    }
   ],
   "source": [
    "Datos['PassengerId'].value_counts()"
   ]
  },
  {
   "cell_type": "code",
   "execution_count": 150,
   "id": "39dcee56-a623-4364-be5d-c50a624c7ab0",
   "metadata": {},
   "outputs": [
    {
     "data": {
      "text/plain": [
       "Survived\n",
       "0    549\n",
       "1    342\n",
       "Name: count, dtype: int64"
      ]
     },
     "execution_count": 150,
     "metadata": {},
     "output_type": "execute_result"
    }
   ],
   "source": [
    "Datos['Survived'].value_counts()"
   ]
  },
  {
   "cell_type": "code",
   "execution_count": 152,
   "id": "9de47c7c-8dd0-48b1-a4bb-bd1537048513",
   "metadata": {},
   "outputs": [
    {
     "data": {
      "text/plain": [
       "Pclass\n",
       "3    491\n",
       "1    216\n",
       "2    184\n",
       "Name: count, dtype: int64"
      ]
     },
     "execution_count": 152,
     "metadata": {},
     "output_type": "execute_result"
    }
   ],
   "source": [
    "Datos['Pclass'].value_counts()"
   ]
  },
  {
   "cell_type": "code",
   "execution_count": 154,
   "id": "97eea083-087a-4643-87ea-2c2ff38fa7a7",
   "metadata": {},
   "outputs": [],
   "source": [
    "# 1 hombre y 0 mujer\n",
    "convertir_sex = LabelEncoder() \n",
    "Datos['Sex'] = convertir_sex.fit_transform(Datos['Sex'])"
   ]
  },
  {
   "cell_type": "code",
   "execution_count": 156,
   "id": "d818922a-7fa9-4b51-a9f9-d09f260d28c2",
   "metadata": {},
   "outputs": [
    {
     "data": {
      "text/plain": [
       "Sex\n",
       "1    577\n",
       "0    314\n",
       "Name: count, dtype: int64"
      ]
     },
     "execution_count": 156,
     "metadata": {},
     "output_type": "execute_result"
    }
   ],
   "source": [
    "Datos['Sex'].value_counts()"
   ]
  },
  {
   "cell_type": "code",
   "execution_count": 158,
   "id": "5f252239-c779-40d5-8b6f-99201918c9ca",
   "metadata": {},
   "outputs": [
    {
     "data": {
      "text/plain": [
       "Age\n",
       "29.699118    177\n",
       "24.000000     30\n",
       "22.000000     27\n",
       "18.000000     26\n",
       "28.000000     25\n",
       "            ... \n",
       "36.500000      1\n",
       "55.500000      1\n",
       "0.920000       1\n",
       "23.500000      1\n",
       "74.000000      1\n",
       "Name: count, Length: 89, dtype: int64"
      ]
     },
     "execution_count": 158,
     "metadata": {},
     "output_type": "execute_result"
    }
   ],
   "source": [
    "Datos['Age'].value_counts()"
   ]
  },
  {
   "cell_type": "code",
   "execution_count": 160,
   "id": "a6fa2123-51fd-4291-aa19-e4cd7a8465fd",
   "metadata": {},
   "outputs": [
    {
     "data": {
      "text/plain": [
       "SibSp\n",
       "0    608\n",
       "1    209\n",
       "2     28\n",
       "4     18\n",
       "3     16\n",
       "8      7\n",
       "5      5\n",
       "Name: count, dtype: int64"
      ]
     },
     "execution_count": 160,
     "metadata": {},
     "output_type": "execute_result"
    }
   ],
   "source": [
    "Datos['SibSp'].value_counts()"
   ]
  },
  {
   "cell_type": "code",
   "execution_count": 162,
   "id": "fdd7a75e-8d13-4317-b965-4649fe2936f2",
   "metadata": {},
   "outputs": [
    {
     "data": {
      "text/plain": [
       "Parch\n",
       "0    678\n",
       "1    118\n",
       "2     80\n",
       "5      5\n",
       "3      5\n",
       "4      4\n",
       "6      1\n",
       "Name: count, dtype: int64"
      ]
     },
     "execution_count": 162,
     "metadata": {},
     "output_type": "execute_result"
    }
   ],
   "source": [
    "Datos['Parch'].value_counts()"
   ]
  },
  {
   "cell_type": "code",
   "execution_count": 164,
   "id": "a0644903-b3b1-4e24-b37b-8247d1eb133f",
   "metadata": {},
   "outputs": [
    {
     "data": {
      "text/plain": [
       "Fare\n",
       "8.0500     43\n",
       "13.0000    42\n",
       "7.8958     38\n",
       "7.7500     34\n",
       "26.0000    31\n",
       "           ..\n",
       "35.0000     1\n",
       "28.5000     1\n",
       "6.2375      1\n",
       "14.0000     1\n",
       "10.5167     1\n",
       "Name: count, Length: 248, dtype: int64"
      ]
     },
     "execution_count": 164,
     "metadata": {},
     "output_type": "execute_result"
    }
   ],
   "source": [
    "Datos['Fare'].value_counts() #Precio pagado en libras esterlinas "
   ]
  },
  {
   "cell_type": "code",
   "execution_count": 166,
   "id": "ac3745d2-170e-44eb-aac2-c96d69cd1d89",
   "metadata": {},
   "outputs": [
    {
     "data": {
      "text/plain": [
       "Embarked\n",
       "S    646\n",
       "C    168\n",
       "Q     77\n",
       "Name: count, dtype: int64"
      ]
     },
     "execution_count": 166,
     "metadata": {},
     "output_type": "execute_result"
    }
   ],
   "source": [
    "Datos['Embarked'].value_counts() # S=Southampton, C=Cherbourg, Q=Queenstown"
   ]
  },
  {
   "cell_type": "code",
   "execution_count": 168,
   "id": "24d7f6c1-bd29-4ba7-9a08-c162da6b8026",
   "metadata": {},
   "outputs": [],
   "source": [
    "entrenar = Datos[['Pclass', 'Sex', 'Age', 'SibSp', 'Parch']]\n",
    "probar = Datos['Survived']\n",
    "\n",
    "entrenar_train, entrenar_test, probar_train, probar_test = train_test_split(entrenar, probar, test_size = 0.20, stratify = probar, random_state = 0)"
   ]
  },
  {
   "cell_type": "code",
   "execution_count": 170,
   "id": "36740324-0c51-4904-9590-b305b5420d21",
   "metadata": {},
   "outputs": [
    {
     "name": "stdout",
     "output_type": "stream",
     "text": [
      "     Pclass  Sex        Age  SibSp  Parch\n",
      "502       3    0  29.699118      0      0\n",
      "464       3    1  29.699118      0      0\n",
      "198       3    0  29.699118      0      0\n",
      "765       1    0  51.000000      1      0\n",
      "421       3    1  21.000000      0      0\n",
      "..      ...  ...        ...    ...    ...\n",
      "131       3    1  20.000000      0      0\n",
      "490       3    1  29.699118      1      0\n",
      "528       3    1  39.000000      0      0\n",
      "48        3    1  29.699118      2      0\n",
      "80        3    1  22.000000      0      0\n",
      "\n",
      "[712 rows x 5 columns]\n"
     ]
    }
   ],
   "source": [
    "print(entrenar_train)"
   ]
  },
  {
   "cell_type": "code",
   "execution_count": 172,
   "id": "851ac67c-b6b5-4182-94cc-e7c7a71222e0",
   "metadata": {},
   "outputs": [
    {
     "name": "stdout",
     "output_type": "stream",
     "text": [
      "502    0\n",
      "464    0\n",
      "198    1\n",
      "765    1\n",
      "421    0\n",
      "      ..\n",
      "131    0\n",
      "490    0\n",
      "528    0\n",
      "48     0\n",
      "80     0\n",
      "Name: Survived, Length: 712, dtype: int64\n"
     ]
    }
   ],
   "source": [
    "print(probar_train)"
   ]
  },
  {
   "cell_type": "code",
   "execution_count": 174,
   "id": "4eefe255-01c6-4f46-9c00-d7fc00103c89",
   "metadata": {},
   "outputs": [],
   "source": [
    "smote = SMOTE(random_state = 42)\n",
    "entrenar_train_res, probar_train_res = smote.fit_resample(entrenar_train, probar_train)\n",
    "\n",
    "modelo_regresion = LogisticRegression(C = 0.1, class_weight = 'balanced', solver = 'liblinear')\n",
    "modelo_regresion.fit(entrenar_train_res, probar_train_res)\n",
    "\n",
    "modelo_predictivo = modelo_regresion.predict(entrenar_test)"
   ]
  },
  {
   "cell_type": "code",
   "execution_count": 176,
   "id": "68579a05-1800-47b0-a134-d7e0419978e7",
   "metadata": {},
   "outputs": [
    {
     "name": "stdout",
     "output_type": "stream",
     "text": [
      "[0 0 1 0 1 0 0 0 1 0 0 0 1 0 0 1 0 0 1 1 0 0 0 1 0 1 0 0 0 0 0 0 1 0 1 0 0\n",
      " 1 1 1 0 0 0 0 0 0 1 1 0 0 0 1 0 0 0 0 0 0 1 1 0 0 1 1 0 0 0 1 1 0 0 1 1 0\n",
      " 0 0 0 1 1 1 0 0 0 0 0 1 0 0 1 1 0 1 1 0 1 0 1 0 0 0 1 0 1 0 1 1 1 0 0 1 0\n",
      " 0 0 0 0 1 0 0 0 0 0 1 0 0 0 1 1 0 0 1 0 0 1 0 0 1 0 1 1 0 0 0 0 0 1 0 0 0\n",
      " 0 0 0 0 1 1 1 0 1 0 0 0 1 0 1 0 1 1 0 1 0 0 0 0 0 0 0 1 0 0 0]\n"
     ]
    }
   ],
   "source": [
    "print(modelo_predictivo)"
   ]
  },
  {
   "cell_type": "code",
   "execution_count": 178,
   "id": "401801cc-5588-4188-94de-b2ca485dab9e",
   "metadata": {},
   "outputs": [
    {
     "name": "stdout",
     "output_type": "stream",
     "text": [
      "              precision    recall  f1-score   support\n",
      "\n",
      "           0       0.81      0.86      0.83       110\n",
      "           1       0.75      0.67      0.71        69\n",
      "\n",
      "    accuracy                           0.79       179\n",
      "   macro avg       0.78      0.77      0.77       179\n",
      "weighted avg       0.79      0.79      0.78       179\n",
      "\n"
     ]
    }
   ],
   "source": [
    "print(classification_report(probar_test, modelo_predictivo))"
   ]
  },
  {
   "cell_type": "code",
   "execution_count": 180,
   "id": "3746db4e-0e1b-46b8-bc11-9fb64867211a",
   "metadata": {},
   "outputs": [
    {
     "data": {
      "text/plain": [
       "<sklearn.metrics._plot.confusion_matrix.ConfusionMatrixDisplay at 0x213044eb2f0>"
      ]
     },
     "execution_count": 180,
     "metadata": {},
     "output_type": "execute_result"
    },
    {
     "data": {
      "image/png": "[encoded data removed]",
      "text/plain": [
       "<Figure size 640x480 with 2 Axes>"
      ]
     },
     "metadata": {},
     "output_type": "display_data"
    }
   ],
   "source": [
    "matriz = confusion_matrix(probar_test, modelo_predictivo)\n",
    "grafica_matriz = metrics.ConfusionMatrixDisplay(confusion_matrix = matriz)\n",
    "grafica_matriz.plot()"
   ]
  },
  {
   "cell_type": "code",
   "execution_count": 182,
   "id": "a42c728c-38e9-4b1f-b7a4-d0342b60ad8a",
   "metadata": {},
   "outputs": [
    {
     "data": {
      "image/png": "[encoded data removed]",
      "text/plain": [
       "<Figure size 640x480 with 1 Axes>"
      ]
     },
     "metadata": {},
     "output_type": "display_data"
    }
   ],
   "source": [
    "RocCurveDisplay.from_predictions(probar_test, modelo_predictivo)\n",
    "plt.show()"
   ]
  },
  {
   "cell_type": "markdown",
   "id": "82dadcf4-d6ac-4fe5-be63-f6ebc1606ea5",
   "metadata": {},
   "source": [
    "<h1>Analisis del modelo de regresion logistica: Test de desempeño del modelo</h1>"
   ]
  },
  {
   "cell_type": "code",
   "execution_count": 185,
   "id": "b670e311-bc69-4b12-8813-41b556a25653",
   "metadata": {},
   "outputs": [
    {
     "name": "stdout",
     "output_type": "stream",
     "text": [
      "              precision    recall  f1-score   support\n",
      "\n",
      "           0       0.81      0.86      0.83       110\n",
      "           1       0.75      0.67      0.71        69\n",
      "\n",
      "    accuracy                           0.79       179\n",
      "   macro avg       0.78      0.77      0.77       179\n",
      "weighted avg       0.79      0.79      0.78       179\n",
      "\n"
     ]
    }
   ],
   "source": [
    "print(classification_report(probar_test, modelo_predictivo))"
   ]
  },
  {
   "cell_type": "markdown",
   "id": "4b70747c-21f4-47e0-b578-808a012a00a4",
   "metadata": {},
   "source": [
    "<h3>Precision</h3>\n",
    "<h4>0 = 81%</h4>\n",
    "<h4>1 = 75%</h4>\n",
    "<h5>La precision mide la proporcion d epredicciones positivas correctas tanto en el si como en el no</h5>\n",
    "<h5>Para el caso 0, la precision es del 81% lo cual indica que el modelo se desempeña de buena manera</h5>\n",
    "<h5>Para el caso 1, la precision es del 75% lo cual indica que esta entre un rango razonablemente bueno</h5>"
   ]
  },
  {
   "cell_type": "markdown",
   "id": "fb7f82c1-9a0c-4a63-997e-c66369de16ad",
   "metadata": {},
   "source": [
    "<h3>Recall</h3>\n",
    "<h4>0 = 86%</h4>\n",
    "<h4>1 = 67%</h4>\n",
    "<h5>El recall mide la proporcion de verdaderos positivos que el modelo identifica correctamente</h5>\n",
    "<h5>Para el caso 0, el recall es del 86% lo cual indica que el modelo se desempeña de buena manera</h5>\n",
    "<h5>Para el caso 1, el recall es del 67% lo cual indica que tiene algo de dificultad para identificar correctamente la instancia 1</h5>"
   ]
  },
  {
   "cell_type": "markdown",
   "id": "ba5b1f07-c27b-484b-abf4-88fe3fe67e0c",
   "metadata": {},
   "source": [
    "<h3>F1 - Score</h3>\n",
    "<h4>0 = 83%</h4>\n",
    "<h4>1 = 71%</h4>\n",
    "<h5>El F1 - Score es la media entre el recall y recision, esta prueba nos da una mejor idea del rendimiento en general del modelo</h5>\n",
    "<h5>Para el caso 0, el F1 - Score es del 83% lo que indica que el modelo esta bien equilibrado</h5>\n",
    "<h5>Para el caso 1, el F1 - Score es del 71% lo que indica que el modelo tiene un rango razonable pero tambien con posibilidad de mejorar</h5>"
   ]
  },
  {
   "cell_type": "markdown",
   "id": "40c940c6-215e-42c3-813b-dedbc3255f88",
   "metadata": {},
   "source": [
    "<h3>Accuracy</h3>\n",
    "<h4>Valor = 79%</h4>\n",
    "<h5>El accuracy es el porcentaje de predicciones realizadas de manera correcta con respecto al total de las predicciones realizadas</h5>\n",
    "<h5>Con un valor del 79% tiene un buen rendimiento a nivel general</h5>"
   ]
  },
  {
   "cell_type": "markdown",
   "id": "824fee50-c2cf-458b-8515-1ba469c31f5d",
   "metadata": {},
   "source": [
    "<h3>Macro AVG</h3>\n",
    "<h4>Macro AVG de Precision = 76%</h4>\n",
    "<h4>Macro AVG de Recall = 77%</h4>\n",
    "<h4>Macro AVG de F1 - Score = 76%</h4>\n",
    "<h5>El Macro AVG es el promedio no ponderado y el que tengan estos valores, deja claro que el modelo tiene un buen desempeño en ambas predicciones como 0 y 1 pero tiene opciones de mejora</h5>"
   ]
  },
  {
   "cell_type": "markdown",
   "id": "5fbdd01a-684c-495f-9575-f1a6d5751b47",
   "metadata": {},
   "source": [
    "<h3>Weighted AVG</h3>\n",
    "<h4>Weighted AVG de Precision = 79%</h4>\n",
    "<h4>Weighted AVG de Recall = 79%</h4>\n",
    "<h4>Weighted AVG de F1 - Score = 78%</h4>\n",
    "<h5>El Weighted AVG es el promedio ponderado tomando en cuenta la proporcion de las clases de los datos. En este caso el modelo tiene un buen rendimiento y equilibio en ambas metricas</h5>"
   ]
  },
  {
   "cell_type": "markdown",
   "id": "0f9818ff-6407-4036-80c5-268d6d749394",
   "metadata": {},
   "source": [
    "<h1>Analisis del modelo de regresion logistica: Matriz de Confusion</h1>"
   ]
  },
  {
   "cell_type": "code",
   "execution_count": 194,
   "id": "e602abb7-6d31-48c6-b344-9de174fd6993",
   "metadata": {},
   "outputs": [
    {
     "data": {
      "text/plain": [
       "<sklearn.metrics._plot.confusion_matrix.ConfusionMatrixDisplay at 0x213039c0fe0>"
      ]
     },
     "execution_count": 194,
     "metadata": {},
     "output_type": "execute_result"
    },
    {
     "data": {
      "image/png": "[encoded data removed]",
      "text/plain": [
       "<Figure size 640x480 with 2 Axes>"
      ]
     },
     "metadata": {},
     "output_type": "display_data"
    }
   ],
   "source": [
    "matriz = confusion_matrix(probar_test, modelo_predictivo)\n",
    "grafica_matriz = metrics.ConfusionMatrixDisplay(confusion_matrix = matriz)\n",
    "grafica_matriz.plot()"
   ]
  },
  {
   "cell_type": "markdown",
   "id": "f4e136b5-d1bd-43f5-8e5d-7549e3362e8f",
   "metadata": {},
   "source": [
    "<h3>Verdaderos Negativos (TN) = 95</h3>\n",
    "<h4>Predice de manera correcta 95 instancias pertenecientes a 0</h4>\n",
    "\n",
    "<h3>Falsos Positivos (FP) = 15</h3>\n",
    "<h4>Predice de manera correcta 15 instancias pertenecientes a 1</h4>\n",
    "\n",
    "<h3>Falsos Negativos (FN) = 23</h3>\n",
    "<h4>No predijo de manera correcta 23 instancas pertenecientes a 0</h4>\n",
    "\n",
    "<h3>Verdaderos Positivos (TP) = 46</h3>\n",
    "<h4>El modelo predijo correctamente 46 instancias pertenecientes a 1</h4>"
   ]
  },
  {
   "cell_type": "markdown",
   "id": "7f744225-1a7a-4514-bef4-769b1811bce9",
   "metadata": {},
   "source": [
    "<h4>Tras realizar el analisis de la matriz de confusion, en el caso de las predicciones de 0 el modelos se desempeña de manera correcta</h4>\n",
    "<h4>Para el caso de las predicciones de 1 el modelo tuvo 23 errores lo cual nos sugiere que se debera elegir otro ripo de modelo para realizar el analisis</h4>"
   ]
  },
  {
   "cell_type": "markdown",
   "id": "53ddeb47-a162-41d2-8c6c-8ba2380df3fb",
   "metadata": {},
   "source": [
    "<h1>Analisis del modelo de regresion logistica: Area bajo la curva</h1>"
   ]
  },
  {
   "cell_type": "code",
   "execution_count": 199,
   "id": "750bc33f-9253-4f37-82c0-5d55d8013805",
   "metadata": {},
   "outputs": [
    {
     "data": {
      "image/png": "[encoded data removed]",
      "text/plain": [
       "<Figure size 640x480 with 1 Axes>"
      ]
     },
     "metadata": {},
     "output_type": "display_data"
    }
   ],
   "source": [
    "RocCurveDisplay.from_predictions(probar_test, modelo_predictivo)\n",
    "plt.show()"
   ]
  },
  {
   "cell_type": "markdown",
   "id": "0ce37392-1f18-4f25-879d-4fddb53e8112",
   "metadata": {},
   "source": [
    "<h3>El area bajo la curva va desde 0 (valor malo) a 1 (el mejor valor), por tanto, el area bajo la curva es del 0,77 lo cual nos indica que el rendimiento del modelo a nivel general en cuanto a clasificar correctamente una instancia positiva frente a las negativas haciendo que el modelo sea bueno pero con opciones a mejorar</h3>"
   ]
  },
  {
   "cell_type": "code",
   "execution_count": null,
   "id": "2f5fda67-b4bb-43f1-924d-e2eb3c0e4307",
   "metadata": {},
   "outputs": [],
   "source": []
  }
 ],
 "metadata": {
  "kernelspec": {
   "display_name": "Python 3 (ipykernel)",
   "language": "python",
   "name": "python3"
  },
  "language_info": {
   "codemirror_mode": {
    "name": "ipython",
    "version": 3
   },
   "file_extension": ".py",
   "mimetype": "text/x-python",
   "name": "python",
   "nbconvert_exporter": "python",
   "pygments_lexer": "ipython3",
   "version": "3.12.4"
  }
 },
 "nbformat": 4,
 "nbformat_minor": 5
}
